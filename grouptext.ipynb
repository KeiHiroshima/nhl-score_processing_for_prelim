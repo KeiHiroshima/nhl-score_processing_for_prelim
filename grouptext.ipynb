{
 "cells": [
  {
   "cell_type": "code",
   "execution_count": 2,
   "metadata": {},
   "outputs": [],
   "source": [
    "import os\n",
    "\n",
    "import numpy as np\n",
    "import pandas as pd"
   ]
  },
  {
   "cell_type": "code",
   "execution_count": 3,
   "metadata": {},
   "outputs": [],
   "source": [
    "sampledata= pd.DataFrame({\n",
    "        'audition_number': np.arange(1, 20),\n",
    "        'name': ['name'+str(i) for i in range(1, 20)],\n",
    "        'represent': ['represent'+str(i) for i in range(1, 20)]\n",
    "    })"
   ]
  },
  {
   "cell_type": "code",
   "execution_count": 4,
   "metadata": {},
   "outputs": [
    {
     "data": {
      "text/html": [
       "<div>\n",
       "<style scoped>\n",
       "    .dataframe tbody tr th:only-of-type {\n",
       "        vertical-align: middle;\n",
       "    }\n",
       "\n",
       "    .dataframe tbody tr th {\n",
       "        vertical-align: top;\n",
       "    }\n",
       "\n",
       "    .dataframe thead th {\n",
       "        text-align: right;\n",
       "    }\n",
       "</style>\n",
       "<table border=\"1\" class=\"dataframe\">\n",
       "  <thead>\n",
       "    <tr style=\"text-align: right;\">\n",
       "      <th></th>\n",
       "      <th>audition_number</th>\n",
       "      <th>name</th>\n",
       "      <th>represent</th>\n",
       "    </tr>\n",
       "  </thead>\n",
       "  <tbody>\n",
       "    <tr>\n",
       "      <th>0</th>\n",
       "      <td>1</td>\n",
       "      <td>name1</td>\n",
       "      <td>represent1</td>\n",
       "    </tr>\n",
       "    <tr>\n",
       "      <th>1</th>\n",
       "      <td>2</td>\n",
       "      <td>name2</td>\n",
       "      <td>represent2</td>\n",
       "    </tr>\n",
       "    <tr>\n",
       "      <th>2</th>\n",
       "      <td>3</td>\n",
       "      <td>name3</td>\n",
       "      <td>represent3</td>\n",
       "    </tr>\n",
       "    <tr>\n",
       "      <th>3</th>\n",
       "      <td>4</td>\n",
       "      <td>name4</td>\n",
       "      <td>represent4</td>\n",
       "    </tr>\n",
       "    <tr>\n",
       "      <th>4</th>\n",
       "      <td>5</td>\n",
       "      <td>name5</td>\n",
       "      <td>represent5</td>\n",
       "    </tr>\n",
       "  </tbody>\n",
       "</table>\n",
       "</div>"
      ],
      "text/plain": [
       "   audition_number   name   represent\n",
       "0                1  name1  represent1\n",
       "1                2  name2  represent2\n",
       "2                3  name3  represent3\n",
       "3                4  name4  represent4\n",
       "4                5  name5  represent5"
      ]
     },
     "execution_count": 4,
     "metadata": {},
     "output_type": "execute_result"
    }
   ],
   "source": [
    "sampledata.head()"
   ]
  },
  {
   "cell_type": "code",
   "execution_count": 7,
   "metadata": {},
   "outputs": [
    {
     "data": {
      "text/html": [
       "<div>\n",
       "<style scoped>\n",
       "    .dataframe tbody tr th:only-of-type {\n",
       "        vertical-align: middle;\n",
       "    }\n",
       "\n",
       "    .dataframe tbody tr th {\n",
       "        vertical-align: top;\n",
       "    }\n",
       "\n",
       "    .dataframe thead th {\n",
       "        text-align: right;\n",
       "    }\n",
       "</style>\n",
       "<table border=\"1\" class=\"dataframe\">\n",
       "  <thead>\n",
       "    <tr style=\"text-align: right;\">\n",
       "      <th></th>\n",
       "      <th>audition_number</th>\n",
       "      <th></th>\n",
       "      <th>name</th>\n",
       "      <th>/</th>\n",
       "      <th>represent</th>\n",
       "    </tr>\n",
       "  </thead>\n",
       "  <tbody>\n",
       "    <tr>\n",
       "      <th>0</th>\n",
       "      <td>1</td>\n",
       "      <td></td>\n",
       "      <td>name1</td>\n",
       "      <td>/</td>\n",
       "      <td>represent1</td>\n",
       "    </tr>\n",
       "    <tr>\n",
       "      <th>1</th>\n",
       "      <td>2</td>\n",
       "      <td></td>\n",
       "      <td>name2</td>\n",
       "      <td>/</td>\n",
       "      <td>represent2</td>\n",
       "    </tr>\n",
       "    <tr>\n",
       "      <th>2</th>\n",
       "      <td>3</td>\n",
       "      <td></td>\n",
       "      <td>name3</td>\n",
       "      <td>/</td>\n",
       "      <td>represent3</td>\n",
       "    </tr>\n",
       "    <tr>\n",
       "      <th>3</th>\n",
       "      <td>4</td>\n",
       "      <td></td>\n",
       "      <td>name4</td>\n",
       "      <td>/</td>\n",
       "      <td>represent4</td>\n",
       "    </tr>\n",
       "    <tr>\n",
       "      <th>4</th>\n",
       "      <td>5</td>\n",
       "      <td></td>\n",
       "      <td>name5</td>\n",
       "      <td>/</td>\n",
       "      <td>represent5</td>\n",
       "    </tr>\n",
       "  </tbody>\n",
       "</table>\n",
       "</div>"
      ],
      "text/plain": [
       "   audition_number      name  /   represent\n",
       "0                1     name1  /  represent1\n",
       "1                2     name2  /  represent2\n",
       "2                3     name3  /  represent3\n",
       "3                4     name4  /  represent4\n",
       "4                5     name5  /  represent5"
      ]
     },
     "execution_count": 7,
     "metadata": {},
     "output_type": "execute_result"
    }
   ],
   "source": [
    "# change format from DataFrame to list of ['audition_number', ' ', 'name', '/', 'represent']\n",
    "# add a new column ' ' and '/'\n",
    "sampledata[' '] = ' '\n",
    "sampledata['/'] = '/'\n",
    "sampledata[['audition_number', ' ', 'name', '/', 'represent']].head()"
   ]
  },
  {
   "cell_type": "code",
   "execution_count": 10,
   "metadata": {},
   "outputs": [
    {
     "data": {
      "text/plain": [
       "array([[1, ' ', 'name1', '/', 'represent1'],\n",
       "       [2, ' ', 'name2', '/', 'represent2'],\n",
       "       [3, ' ', 'name3', '/', 'represent3'],\n",
       "       [4, ' ', 'name4', '/', 'represent4'],\n",
       "       [5, ' ', 'name5', '/', 'represent5'],\n",
       "       [6, ' ', 'name6', '/', 'represent6'],\n",
       "       [7, ' ', 'name7', '/', 'represent7'],\n",
       "       [8, ' ', 'name8', '/', 'represent8'],\n",
       "       [9, ' ', 'name9', '/', 'represent9'],\n",
       "       [10, ' ', 'name10', '/', 'represent10'],\n",
       "       [11, ' ', 'name11', '/', 'represent11'],\n",
       "       [12, ' ', 'name12', '/', 'represent12'],\n",
       "       [13, ' ', 'name13', '/', 'represent13'],\n",
       "       [14, ' ', 'name14', '/', 'represent14'],\n",
       "       [15, ' ', 'name15', '/', 'represent15'],\n",
       "       [16, ' ', 'name16', '/', 'represent16'],\n",
       "       [17, ' ', 'name17', '/', 'represent17'],\n",
       "       [18, ' ', 'name18', '/', 'represent18'],\n",
       "       [19, ' ', 'name19', '/', 'represent19']], dtype=object)"
      ]
     },
     "execution_count": 10,
     "metadata": {},
     "output_type": "execute_result"
    }
   ],
   "source": [
    "sampledata[['audition_number', ' ', 'name', '/', 'represent']].values"
   ]
  },
  {
   "cell_type": "code",
   "execution_count": null,
   "metadata": {},
   "outputs": [],
   "source": []
  }
 ],
 "metadata": {
  "kernelspec": {
   "display_name": "Python 3",
   "language": "python",
   "name": "python3"
  },
  "language_info": {
   "codemirror_mode": {
    "name": "ipython",
    "version": 3
   },
   "file_extension": ".py",
   "mimetype": "text/x-python",
   "name": "python",
   "nbconvert_exporter": "python",
   "pygments_lexer": "ipython3",
   "version": "3.10.14"
  }
 },
 "nbformat": 4,
 "nbformat_minor": 2
}
